{
 "cells": [
  {
   "cell_type": "code",
   "execution_count": 1,
   "id": "d0b31cd2",
   "metadata": {},
   "outputs": [],
   "source": [
    "import pandas as pd\n",
    "import numpy as np\n",
    "import matplotlib.pyplot as plt\n",
    "import sqlite3\n",
    "import seaborn as sns\n",
    "\n",
    "from sqlite3 import Error\n",
    "\n",
    "\n",
    "%matplotlib inline"
   ]
  },
  {
   "cell_type": "code",
   "execution_count": 2,
   "id": "e063132a",
   "metadata": {},
   "outputs": [],
   "source": [
    "coins = ['Bitcoin', 'Ethereum', 'Dogecoin']#you get csv into pandas then we \n",
    "\n",
    "btc = pd.read_csv('Bitcoin.csv')\n",
    "eth = pd.read_csv('Ethereum.csv')\n",
    "doge = pd.read_csv('Dogecoin.csv')"
   ]
  },
  {
   "cell_type": "code",
   "execution_count": 3,
   "id": "535ea8ab",
   "metadata": {},
   "outputs": [],
   "source": [
    "btc['ticker'] = np.array(['btc']*len(btc))#add identifier column because you dump everyting into one datatbase\n",
    "eth['ticker'] = np.array(['eth']*len(eth))\n",
    "doge['ticker'] = np.array(['doge']*len(doge))"
   ]
  },
  {
   "cell_type": "code",
   "execution_count": null,
   "id": "6dcf6614",
   "metadata": {},
   "outputs": [],
   "source": [
    "btc.to_csv('btc.csv', index=False)\n",
    "eth.to_csv('eth.csv', index=False)\n",
    "doge.to_csv('doge.csv', index=False)"
   ]
  },
  {
   "cell_type": "code",
   "execution_count": null,
   "id": "896b7779",
   "metadata": {},
   "outputs": [],
   "source": [
    "def create_connection(db_file, delete_db=False):# iterative function it create connection\n",
    "    import os\n",
    "    if delete_db and os.path.exists(db_file):\n",
    "        os.remove(db_file)\n",
    "\n",
    "    conn = None\n",
    "    try:\n",
    "        conn = sqlite3.connect(db_file)\n",
    "        conn.execute(\"PRAGMA foreign_keys = 1\")\n",
    "    except Error as e:\n",
    "        print(e)\n",
    "\n",
    "    return conn\n",
    "\n",
    "\n",
    "def create_table(conn, create_table_sql, drop_table_name=None):# this will create table in datatbase\n",
    "    \n",
    "    if drop_table_name: # You can optionally pass drop_table_name to drop the table. \n",
    "        try:\n",
    "            c = conn.cursor()\n",
    "            c.execute(\"\"\"DROP TABLE IF EXISTS %s\"\"\" % (drop_table_name))\n",
    "        except Error as e:\n",
    "            print(e)\n",
    "    \n",
    "    try:\n",
    "        c = conn.cursor()\n",
    "        c.execute(create_table_sql)\n",
    "    except Error as e:\n",
    "        print(e)\n",
    "        \n",
    "def execute_sql_statement(sql_statement, conn):# it execute sql statment \n",
    "    cur = conn.cursor()\n",
    "    cur.execute(sql_statement)\n",
    "\n",
    "    rows = cur.fetchall()\n",
    "\n",
    "    return rows\n"
   ]
  },
  {
   "cell_type": "code",
   "execution_count": null,
   "id": "612824aa",
   "metadata": {},
   "outputs": [],
   "source": [
    "non_normalized_db = 'non_normalized.db'# create non normalise connection\n",
    "non_norm_conn = create_connection(non_normalized_db, delete_db=True)"
   ]
  },
  {
   "cell_type": "code",
   "execution_count": null,
   "id": "a75fd819",
   "metadata": {},
   "outputs": [],
   "source": [
    "non_normalized_sql = ''' CREATE TABLE IF NOT EXISTS cryptocurrencies (      \n",
    "                            date TEXT NOT NULL,\n",
    "                            open REAL NOT NULL,\n",
    "                            high REAL NOT NULL,\n",
    "                            low REAL NOT NULL,\n",
    "                            close REAL NOT NULL,\n",
    "                            volume REAL NOT NULL,\n",
    "                            market_cap REAL NOT NULL,\n",
    "                            ticker TEXT NOT NULL\n",
    "                            );'''\n",
    "\n",
    "create_table(non_norm_conn, non_normalized_sql, drop_table_name=True)# create table inside non normalise connection"
   ]
  },
  {
   "cell_type": "code",
   "execution_count": null,
   "id": "0e8da38e",
   "metadata": {},
   "outputs": [],
   "source": [
    "def insert_non_norm(conn, tickers):# insert csv data into non normalised dtabase\n",
    "    dates = []\n",
    "    opens = []\n",
    "    highs = []\n",
    "    lows = []\n",
    "    closes = []\n",
    "    vol = []\n",
    "    mcap = []\n",
    "    tiks = []\n",
    "    for ticker in tickers:\n",
    "        with open(ticker + '.csv', 'r') as f:\n",
    "            data = f.read()\n",
    "            for row in data.split('\\n')[1:-1]:\n",
    "                dates.append(row.split(',')[0])\n",
    "                opens.append(float(row.split(',')[1]))\n",
    "                highs.append(float(row.split(',')[2]))\n",
    "                lows.append(float(row.split(',')[3]))\n",
    "                closes.append(float(row.split(',')[4]))\n",
    "                vol.append(float(row.split(',')[5]))\n",
    "                mcap.append(float(row.split(',')[6]))\n",
    "                tiks.append(row.split(',')[7])\n",
    "    data = tuple(zip(dates, opens, highs, lows, closes, vol, mcap, tiks))\n",
    "    insert_sql = ''' INSERT INTO cryptocurrencies VALUES(?, ?, ?, ?, ?, ?, ?, ?)'''\n",
    "    cursor = conn.cursor()\n",
    "    cursor.executemany(insert_sql, data)\n",
    "    conn.commit()\n",
    "    "
   ]
  },
  {
   "cell_type": "code",
   "execution_count": null,
   "id": "2c55e2e1",
   "metadata": {},
   "outputs": [],
   "source": [
    "insert_non_norm(non_norm_conn, ['btc', 'eth', 'doge'])"
   ]
  },
  {
   "cell_type": "code",
   "execution_count": null,
   "id": "9a632436",
   "metadata": {},
   "outputs": [],
   "source": []
  },
  {
   "cell_type": "code",
   "execution_count": null,
   "id": "480ed7fa",
   "metadata": {},
   "outputs": [],
   "source": [
    "def setup_norm_db(normalized_db):# setup normalised database and create tables inside it\n",
    "    \n",
    "    tickers_table_sql = ''' CREATE TABLE IF NOT EXISTS tickers (\n",
    "                            ticker_id INTEGER NOT NULL PRIMARY KEY AUTOINCREMENT,\n",
    "                            name TEXT NOT NULL\n",
    "                            );'''\n",
    "    dates_table_sql = '''CREATE TABLE IF NOT EXISTS timeseries_data (\n",
    "                         date TEXT NOT NULL,\n",
    "                         open REAL NOT NULL,\n",
    "                         high REAL NOT NULL,\n",
    "                         low REAL NOT NULL,\n",
    "                         close REAL NOT NULL,\n",
    "                         volume REAL NOT NULL,\n",
    "                         mkcap REAL NOT NULL,\n",
    "                         ticker_id INTEGER NOT NULL,\n",
    "                         FOREIGN KEY (ticker_id) REFERENCES tickers (ticker_id)\n",
    "                         )'''\n",
    "    with create_connection(normalized_db, delete_db=True) as conn:\n",
    "        create_table(conn, tickers_table_sql, drop_table_name='tickers')\n",
    "        create_table(conn, dates_table_sql, drop_table_name='timeseries_data')\n",
    "\n",
    "\n",
    "def normalize_db(normalized_db, non_normalized_db):# fetch data from non normalised database, process it insert into normalised database table\n",
    "    with create_connection(non_normalized_db) as non_norm_conn:\n",
    "        retrieve_data_sql = \"\"\"SELECT * FROM cryptocurrencies;\"\"\"\n",
    "        raw_data = execute_sql_statement(retrieve_data_sql, non_norm_conn)\n",
    "\n",
    "        \n",
    "    _tiks = set()\n",
    "    for i in raw_data:\n",
    "        _tiks.add(i[-1])\n",
    "    _tiks = tuple(sorted(list([(x,) for x in _tiks])))\n",
    "\n",
    "    with create_connection(normalized_db) as norm_conn:\n",
    "        insert_tiks_sql = '''INSERT INTO tickers (name) VALUES (?);'''\n",
    "        cursor = norm_conn.cursor()\n",
    "        cursor.executemany(insert_tiks_sql, _tiks)\n",
    "        \n",
    "        \n",
    "        _tiks_dict = {}\n",
    "        for i in execute_sql_statement('SELECT * FROM tickers;', norm_conn):\n",
    "            _tiks_dict[i[1]] = i[0]    \n",
    "            \n",
    "        timeseries_sql = '''INSERT INTO timeseries_data VALUES (?, ?, ?, ?, ?, ?, ?, ?)'''\n",
    "        data_to_insert = []\n",
    "        for row in raw_data:\n",
    "            edit_row = list(row)\n",
    "            edit_row[-1] = _tiks_dict[edit_row[-1]]\n",
    "            edit_row = tuple(edit_row)\n",
    "            cursor.execute(timeseries_sql, edit_row)\n",
    "        norm_conn.commit()"
   ]
  },
  {
   "cell_type": "code",
   "execution_count": null,
   "id": "0f725f1e",
   "metadata": {},
   "outputs": [],
   "source": [
    "setup_norm_db('normalized.db')"
   ]
  },
  {
   "cell_type": "code",
   "execution_count": null,
   "id": "deac611c",
   "metadata": {},
   "outputs": [],
   "source": [
    "normalize_db('normalized.db', 'non_normalized.db')#normalised db"
   ]
  },
  {
   "cell_type": "markdown",
   "id": "f1dbe666",
   "metadata": {},
   "source": []
  },
  {
   "cell_type": "markdown",
   "id": "5ffe79d4",
   "metadata": {},
   "source": [
    "# Database Schema"
   ]
  },
  {
   "cell_type": "markdown",
   "id": "802468b1",
   "metadata": {},
   "source": [
    "<img src=\"Schema.png\">"
   ]
  },
  {
   "cell_type": "markdown",
   "id": "e6fee318",
   "metadata": {},
   "source": [
    "# Prepare pandas "
   ]
  },
  {
   "cell_type": "code",
   "execution_count": null,
   "id": "ea651254",
   "metadata": {},
   "outputs": [],
   "source": [
    "to_pandas_sql = \"\"\"SELECT * from timeseries_data td join tickers t on td.ticker_id = t.ticker_id\"\"\"#fetch data from non normalise database into single data frame\n",
    "conn = create_connection('normalized.db')\n",
    "df = pd.read_sql_query(to_pandas_sql, conn)\n",
    "conn.close()"
   ]
  },
  {
   "cell_type": "code",
   "execution_count": null,
   "id": "63c851bb",
   "metadata": {},
   "outputs": [],
   "source": [
    "df.head()# sorted"
   ]
  },
  {
   "cell_type": "code",
   "execution_count": null,
   "id": "7924c950",
   "metadata": {},
   "outputs": [],
   "source": [
    "df = df.drop(['ticker_id'], axis=1)# drop extra ticker id colum because there were 2 same colums\n",
    "df.loc[:, 'date'] = pd.to_datetime(df['date'], dayfirst=True)"
   ]
  },
  {
   "cell_type": "code",
   "execution_count": null,
   "id": "5e8c2c49",
   "metadata": {},
   "outputs": [
    {
     "data": {
      "text/plain": [
       "date      datetime64[ns]\n",
       "open             float64\n",
       "high             float64\n",
       "low              float64\n",
       "close            float64\n",
       "volume           float64\n",
       "mkcap            float64\n",
       "name              object\n",
       "dtype: object"
      ]
     },
     "execution_count": 65,
     "metadata": {},
     "output_type": "execute_result"
    }
   ],
   "source": [
    "df.dtypes"
   ]
  },
  {
   "cell_type": "code",
   "execution_count": null,
   "id": "4c36fb3f",
   "metadata": {},
   "outputs": [],
   "source": [
    "df = df.sort_values(['name', 'date'])"
   ]
  },
  {
   "cell_type": "code",
   "execution_count": null,
   "id": "fa3e66d1",
   "metadata": {},
   "outputs": [],
   "source": [
    "btc = df[df['name']=='btc']# create seprate df for each coin\n",
    "doge = df[df['name']=='doge']\n",
    "eth = df[df['name']=='eth']"
   ]
  },
  {
   "cell_type": "code",
   "execution_count": null,
   "id": "460ae0f0",
   "metadata": {},
   "outputs": [
    {
     "data": {
      "text/plain": [
       "Text(0.5, 0.98, 'Coin performance')"
      ]
     },
     "execution_count": 82,
     "metadata": {},
     "output_type": "execute_result"
    },
    {
     "data": {
      "text/plain": [
       "<Figure size 1440x720 with 0 Axes>"
      ]
     },
     "metadata": {},
     "output_type": "display_data"
    },
    {
     "data": {
      "image/png": "[encoded data removed]",
      "text/plain": [
       "<Figure size 1440x720 with 3 Axes>"
      ]
     },
     "metadata": {
      "needs_background": "light"
     },
     "output_type": "display_data"
    }
   ],
   "source": [
    "plt.figure(figsize=(20,10))# plot time vs price for each coin\n",
    "fig, ax = plt.subplots(nrows=3, ncols=1, figsize=(20,10))\n",
    "ax[0].plot(btc['date'], btc['close'], label='btc')\n",
    "ax[0].legend(fontsize=15)\n",
    "ax[1].plot(doge['date'], doge['close'], label='doge', color='green')\n",
    "ax[1].legend(fontsize=15)\n",
    "ax[2].plot(eth['date'], eth['close'], label='eth', color='red')\n",
    "ax[2].legend(fontsize=15)\n",
    "fig.suptitle('Coin performance', fontsize=20)"
   ]
  },
  {
   "cell_type": "markdown",
   "id": "c836e525",
   "metadata": {},
   "source": [
    "Adjust dates for the selected coins to include identical time periods"
   ]
  },
  {
   "cell_type": "code",
   "execution_count": null,
   "id": "c157e71a",
   "metadata": {},
   "outputs": [
    {
     "data": {
      "text/plain": [
       "Timestamp('2015-08-07 00:00:00')"
      ]
     },
     "execution_count": 83,
     "metadata": {},
     "output_type": "execute_result"
    }
   ],
   "source": [
    "# min ETH date\n",
    "eth['date'].min()"
   ]
  },
  {
   "cell_type": "code",
   "execution_count": null,
   "id": "bc369025",
   "metadata": {},
   "outputs": [],
   "source": [
    "btc = btc[btc['date'] >= '2015-08-07' ]# adjust dates for coins the time lines match\n",
    "doge = doge[doge['date'] >= '2015-08-07']"
   ]
  },
  {
   "cell_type": "code",
   "execution_count": null,
   "id": "54e7ce42",
   "metadata": {},
   "outputs": [
    {
     "data": {
      "text/plain": [
       "<matplotlib.legend.Legend at 0x1a9e4bebfa0>"
      ]
     },
     "execution_count": 104,
     "metadata": {},
     "output_type": "execute_result"
    },
    {
     "data": {
      "image/png": "[encoded data removed]",
      "text/plain": [
       "<Figure size 1440x720 with 1 Axes>"
      ]
     },
     "metadata": {},
     "output_type": "display_data"
    }
   ],
   "source": [
    "plt.figure(figsize=(20,10))# distribution of volumes of each coin\n",
    "sns.set_style('whitegrid')\n",
    "sns.kdeplot(btc.volume, bw_adjust=1.5, label='btc')\n",
    "sns.kdeplot(eth.volume, bw_adjust=1.5, label='eth', color='red')\n",
    "sns.kdeplot(doge.volume, bw_adjust=1.5, label='doge', color='green')\n",
    "plt.title('Distribution of volumes by coins', fontsize=18)\n",
    "plt.legend()"
   ]
  },
  {
   "cell_type": "code",
   "execution_count": null,
   "id": "9dd96d5e",
   "metadata": {},
   "outputs": [],
   "source": [
    "import sys"
   ]
  },
  {
   "cell_type": "code",
   "execution_count": null,
   "id": "401a9e27",
   "metadata": {},
   "outputs": [],
   "source": [
    "!pip install --prefix {sys.prefix} pandas_ta"
   ]
  },
  {
   "cell_type": "code",
   "execution_count": null,
   "id": "9e88bb35",
   "metadata": {},
   "outputs": [],
   "source": [
    "import pandas_ta"
   ]
  },
  {
   "cell_type": "code",
   "execution_count": null,
   "id": "fa729471",
   "metadata": {},
   "outputs": [],
   "source": [
    "btc.ta.ema(close='close', length=7, append=True)# creates 7 days moving average close price for each coin\n",
    "doge.ta.ema(close='close', length=7, append=True)\n",
    "eth.ta.ema(close='close', length=7, append=True)"
   ]
  },
  {
   "cell_type": "code",
   "execution_count": null,
   "id": "3c086f15",
   "metadata": {},
   "outputs": [
    {
     "name": "stderr",
     "output_type": "stream",
     "text": [
      "<ipython-input-187-1c427f90b973>:3: SettingWithCopyWarning: \n",
      "A value is trying to be set on a copy of a slice from a DataFrame\n",
      "\n",
      "See the caveats in the documentation: https://pandas.pydata.org/pandas-docs/stable/user_guide/indexing.html#returning-a-view-versus-a-copy\n",
      "  eth.dropna(axis=0, inplace=True)\n"
     ]
    }
   ],
   "source": [
    "btc.dropna(axis=0, inplace=True)# delete row with missing values\n",
    "doge.dropna(axis=0, inplace=True)\n",
    "eth.dropna(axis=0, inplace=True)"
   ]
  },
  {
   "cell_type": "code",
   "execution_count": null,
   "id": "47e0c6dc",
   "metadata": {},
   "outputs": [
    {
     "data": {
      "text/html": [
       "<div>\n",
       "<style scoped>\n",
       "    .dataframe tbody tr th:only-of-type {\n",
       "        vertical-align: middle;\n",
       "    }\n",
       "\n",
       "    .dataframe tbody tr th {\n",
       "        vertical-align: top;\n",
       "    }\n",
       "\n",
       "    .dataframe thead th {\n",
       "        text-align: right;\n",
       "    }\n",
       "</style>\n",
       "<table border=\"1\" class=\"dataframe\">\n",
       "  <thead>\n",
       "    <tr style=\"text-align: right;\">\n",
       "      <th></th>\n",
       "      <th>date</th>\n",
       "      <th>open</th>\n",
       "      <th>high</th>\n",
       "      <th>low</th>\n",
       "      <th>close</th>\n",
       "      <th>volume</th>\n",
       "      <th>mkcap</th>\n",
       "      <th>name</th>\n",
       "      <th>EMA_7</th>\n",
       "    </tr>\n",
       "  </thead>\n",
       "  <tbody>\n",
       "    <tr>\n",
       "      <th>2115</th>\n",
       "      <td>2015-08-13</td>\n",
       "      <td>266.183014</td>\n",
       "      <td>266.231995</td>\n",
       "      <td>262.841003</td>\n",
       "      <td>264.079987</td>\n",
       "      <td>2.768550e+07</td>\n",
       "      <td>3.827589e+09</td>\n",
       "      <td>btc</td>\n",
       "      <td>267.282427</td>\n",
       "    </tr>\n",
       "    <tr>\n",
       "      <th>2114</th>\n",
       "      <td>2015-08-14</td>\n",
       "      <td>264.131989</td>\n",
       "      <td>267.466003</td>\n",
       "      <td>261.477997</td>\n",
       "      <td>265.679993</td>\n",
       "      <td>2.709120e+07</td>\n",
       "      <td>3.851716e+09</td>\n",
       "      <td>btc</td>\n",
       "      <td>266.881818</td>\n",
       "    </tr>\n",
       "    <tr>\n",
       "      <th>2113</th>\n",
       "      <td>2015-08-15</td>\n",
       "      <td>265.528992</td>\n",
       "      <td>266.666992</td>\n",
       "      <td>261.295990</td>\n",
       "      <td>261.550995</td>\n",
       "      <td>1.932110e+07</td>\n",
       "      <td>3.792758e+09</td>\n",
       "      <td>btc</td>\n",
       "      <td>265.549113</td>\n",
       "    </tr>\n",
       "    <tr>\n",
       "      <th>2112</th>\n",
       "      <td>2015-08-16</td>\n",
       "      <td>261.865997</td>\n",
       "      <td>262.440002</td>\n",
       "      <td>257.040985</td>\n",
       "      <td>258.506989</td>\n",
       "      <td>2.971700e+07</td>\n",
       "      <td>3.749502e+09</td>\n",
       "      <td>btc</td>\n",
       "      <td>263.788582</td>\n",
       "    </tr>\n",
       "    <tr>\n",
       "      <th>2111</th>\n",
       "      <td>2015-08-17</td>\n",
       "      <td>258.489990</td>\n",
       "      <td>260.505005</td>\n",
       "      <td>257.117004</td>\n",
       "      <td>257.976013</td>\n",
       "      <td>2.161790e+07</td>\n",
       "      <td>3.742748e+09</td>\n",
       "      <td>btc</td>\n",
       "      <td>262.335439</td>\n",
       "    </tr>\n",
       "    <tr>\n",
       "      <th>...</th>\n",
       "      <td>...</td>\n",
       "      <td>...</td>\n",
       "      <td>...</td>\n",
       "      <td>...</td>\n",
       "      <td>...</td>\n",
       "      <td>...</td>\n",
       "      <td>...</td>\n",
       "      <td>...</td>\n",
       "      <td>...</td>\n",
       "    </tr>\n",
       "    <tr>\n",
       "      <th>4</th>\n",
       "      <td>2021-05-24</td>\n",
       "      <td>34700.363568</td>\n",
       "      <td>39835.139830</td>\n",
       "      <td>34551.080550</td>\n",
       "      <td>38705.978637</td>\n",
       "      <td>6.735958e+10</td>\n",
       "      <td>7.243321e+11</td>\n",
       "      <td>btc</td>\n",
       "      <td>39200.478698</td>\n",
       "    </tr>\n",
       "    <tr>\n",
       "      <th>3</th>\n",
       "      <td>2021-05-25</td>\n",
       "      <td>38795.780250</td>\n",
       "      <td>39776.349798</td>\n",
       "      <td>36581.428916</td>\n",
       "      <td>38402.223851</td>\n",
       "      <td>5.621192e+10</td>\n",
       "      <td>7.188294e+11</td>\n",
       "      <td>btc</td>\n",
       "      <td>39000.914986</td>\n",
       "    </tr>\n",
       "    <tr>\n",
       "      <th>2</th>\n",
       "      <td>2021-05-26</td>\n",
       "      <td>38392.623656</td>\n",
       "      <td>40782.078183</td>\n",
       "      <td>37905.834854</td>\n",
       "      <td>39294.197382</td>\n",
       "      <td>5.134674e+10</td>\n",
       "      <td>7.355564e+11</td>\n",
       "      <td>btc</td>\n",
       "      <td>39074.235585</td>\n",
       "    </tr>\n",
       "    <tr>\n",
       "      <th>1</th>\n",
       "      <td>2021-05-27</td>\n",
       "      <td>39316.889678</td>\n",
       "      <td>40379.617672</td>\n",
       "      <td>37247.903676</td>\n",
       "      <td>38436.968535</td>\n",
       "      <td>4.321097e+10</td>\n",
       "      <td>7.195381e+11</td>\n",
       "      <td>btc</td>\n",
       "      <td>38914.918823</td>\n",
       "    </tr>\n",
       "    <tr>\n",
       "      <th>0</th>\n",
       "      <td>2021-05-28</td>\n",
       "      <td>38507.083075</td>\n",
       "      <td>38856.967885</td>\n",
       "      <td>34779.039427</td>\n",
       "      <td>35697.606390</td>\n",
       "      <td>5.520019e+10</td>\n",
       "      <td>6.682839e+11</td>\n",
       "      <td>btc</td>\n",
       "      <td>38110.590715</td>\n",
       "    </tr>\n",
       "  </tbody>\n",
       "</table>\n",
       "<p>2116 rows × 9 columns</p>\n",
       "</div>"
      ],
      "text/plain": [
       "           date          open          high           low         close  \\\n",
       "2115 2015-08-13    266.183014    266.231995    262.841003    264.079987   \n",
       "2114 2015-08-14    264.131989    267.466003    261.477997    265.679993   \n",
       "2113 2015-08-15    265.528992    266.666992    261.295990    261.550995   \n",
       "2112 2015-08-16    261.865997    262.440002    257.040985    258.506989   \n",
       "2111 2015-08-17    258.489990    260.505005    257.117004    257.976013   \n",
       "...         ...           ...           ...           ...           ...   \n",
       "4    2021-05-24  34700.363568  39835.139830  34551.080550  38705.978637   \n",
       "3    2021-05-25  38795.780250  39776.349798  36581.428916  38402.223851   \n",
       "2    2021-05-26  38392.623656  40782.078183  37905.834854  39294.197382   \n",
       "1    2021-05-27  39316.889678  40379.617672  37247.903676  38436.968535   \n",
       "0    2021-05-28  38507.083075  38856.967885  34779.039427  35697.606390   \n",
       "\n",
       "            volume         mkcap name         EMA_7  \n",
       "2115  2.768550e+07  3.827589e+09  btc    267.282427  \n",
       "2114  2.709120e+07  3.851716e+09  btc    266.881818  \n",
       "2113  1.932110e+07  3.792758e+09  btc    265.549113  \n",
       "2112  2.971700e+07  3.749502e+09  btc    263.788582  \n",
       "2111  2.161790e+07  3.742748e+09  btc    262.335439  \n",
       "...            ...           ...  ...           ...  \n",
       "4     6.735958e+10  7.243321e+11  btc  39200.478698  \n",
       "3     5.621192e+10  7.188294e+11  btc  39000.914986  \n",
       "2     5.134674e+10  7.355564e+11  btc  39074.235585  \n",
       "1     4.321097e+10  7.195381e+11  btc  38914.918823  \n",
       "0     5.520019e+10  6.682839e+11  btc  38110.590715  \n",
       "\n",
       "[2116 rows x 9 columns]"
      ]
     },
     "execution_count": 116,
     "metadata": {},
     "output_type": "execute_result"
    }
   ],
   "source": [
    "btc"
   ]
  },
  {
   "cell_type": "code",
   "execution_count": null,
   "id": "eb0dcb2a",
   "metadata": {},
   "outputs": [],
   "source": [
    "from sklearn.linear_model import LinearRegression# you need to predict the value"
   ]
  },
  {
   "cell_type": "code",
   "execution_count": null,
   "id": "1307769a",
   "metadata": {},
   "outputs": [],
   "source": [
    "from sklearn.model_selection import train_test_split\n",
    "\n",
    "X_train1, X_test1, y_train1, y_test1 = train_test_split(btc[['open', 'EMA_7']], btc['close'], shuffle=False, test_size = 0.1)\n",
    "X_train2, X_test2, y_train2, y_test2 = train_test_split(doge[['open', 'EMA_7']], doge['close'], shuffle=False, test_size = 0.1)\n",
    "X_train3, X_test3, y_train3, y_test3 = train_test_split(eth[['open', 'EMA_7']], eth['close'], shuffle=False, test_size = 0.1)"
   ]
  },
  {
   "cell_type": "code",
   "execution_count": null,
   "id": "356c2382",
   "metadata": {},
   "outputs": [],
   "source": [
    "X_train1, X_val1, y_train1, y_val1 = train_test_split(X_train1, y_train1, shuffle=False, test_size = 0.1)# create train 80%, validation 10% and test 10%\n",
    "X_train2, X_val2, y_train2, y_val2 = train_test_split(X_train2, y_train2, shuffle=False, test_size = 0.1)\n",
    "X_train3, X_val3, y_train3, y_val3 = train_test_split(X_train3, y_train3, shuffle=False, test_size = 0.1)"
   ]
  },
  {
   "cell_type": "code",
   "execution_count": null,
   "id": "68b36fce",
   "metadata": {},
   "outputs": [
    {
     "data": {
      "text/plain": [
       "LinearRegression()"
      ]
     },
     "execution_count": 190,
     "metadata": {},
     "output_type": "execute_result"
    }
   ],
   "source": [
    "model1 = LinearRegression()# create model for each data frame and train seprately\n",
    "model2 = LinearRegression()\n",
    "model3 = LinearRegression()\n",
    "\n",
    "model1.fit(X_train1, y_train1)\n",
    "model2.fit(X_train2, y_train2)\n",
    "model3.fit(X_train3, y_train3)"
   ]
  },
  {
   "cell_type": "code",
   "execution_count": null,
   "id": "a6df9b42",
   "metadata": {},
   "outputs": [],
   "source": [
    "from sklearn.metrics import mean_squared_error, r2_score# common metrics to assess model quality"
   ]
  },
  {
   "cell_type": "code",
   "execution_count": null,
   "id": "b8b4b10d",
   "metadata": {},
   "outputs": [],
   "source": [
    "y_pred1 = model1.predict(X_val1)# predict on validation set\n",
    "y_pred2 = model2.predict(X_val2)\n",
    "y_pred3 = model3.predict(X_val3)"
   ]
  },
  {
   "cell_type": "code",
   "execution_count": null,
   "id": "bab4d05e",
   "metadata": {},
   "outputs": [
    {
     "name": "stdout",
     "output_type": "stream",
     "text": [
      "BTC r2 score 0.9562929063151988\n",
      "DOGE r2 score 0.8631229052719489\n",
      "ETH r2 score 0.977759180970628\n"
     ]
    }
   ],
   "source": [
    "print(\"BTC r2 score\", r2_score(y_val1, y_pred1))# how much variation could be explain by features etherum has the best r2 score\n",
    "print(\"DOGE r2 score\", r2_score(y_val2, y_pred2))\n",
    "print('ETH r2 score', r2_score(y_val3, y_pred3))"
   ]
  },
  {
   "cell_type": "code",
   "execution_count": null,
   "id": "5ac0da86",
   "metadata": {},
   "outputs": [
    {
     "name": "stdout",
     "output_type": "stream",
     "text": [
      "BTC mse score 67856.45072082423\n",
      "DOGE mse score 2.574415532495172e-08\n",
      "ETH mse score 145.5483979813307\n"
     ]
    }
   ],
   "source": [
    "print(\"BTC mse score\", mean_squared_error(y_val1, y_pred1))# how good the prediction for doge coin is the best\n",
    "print(\"DOGE mse score\", mean_squared_error(y_val2, y_pred2))\n",
    "print('ETH mse score', mean_squared_error(y_val3, y_pred3))"
   ]
  },
  {
   "cell_type": "code",
   "execution_count": null,
   "id": "eaa67f71",
   "metadata": {},
   "outputs": [],
   "source": [
    "m1_preds = model1.predict(X_test1)# make prediction on the test set\n",
    "m2_preds = model2.predict(X_test2)\n",
    "m3_preds = model3.predict(X_test3)"
   ]
  },
  {
   "cell_type": "code",
   "execution_count": null,
   "id": "7b306092",
   "metadata": {},
   "outputs": [],
   "source": [
    "m1_preds = np.array(m1_preds)# \n",
    "m2_preds = np.array(m2_preds)\n",
    "m3_preds = np.array(m3_preds)"
   ]
  },
  {
   "cell_type": "code",
   "execution_count": null,
   "id": "1e3792fc",
   "metadata": {},
   "outputs": [],
   "source": [
    "btc_test = btc.iloc[-211:, :]# all data for the test points\n",
    "doge_test = doge.iloc[-211:, :]\n",
    "eth_test = eth.iloc[-211:, :]"
   ]
  },
  {
   "cell_type": "code",
   "execution_count": null,
   "id": "a0489184",
   "metadata": {},
   "outputs": [
    {
     "data": {
      "text/plain": [
       "211"
      ]
     },
     "execution_count": 204,
     "metadata": {},
     "output_type": "execute_result"
    }
   ],
   "source": [
    "len(m2_preds)"
   ]
  },
  {
   "cell_type": "code",
   "execution_count": null,
   "id": "fd0a7d40",
   "metadata": {},
   "outputs": [],
   "source": [
    "buy1 = [np.where(m1_preds == x)[0][0] for x in m1_preds[m1_preds > btc.iloc[-211:, 1]]]# if open price in test data is lower then predicted closed price we buy that coin for open price and sell it for actual closed price \n",
    "buy2 = [np.where(m2_preds == x)[0][0] for x in m2_preds[m2_preds > doge.iloc[-211:, 1]]]\n",
    "buy3 = [np.where(m3_preds == x)[0][0] for x in m3_preds[m3_preds > eth.iloc[-211:, 1]]]"
   ]
  },
  {
   "cell_type": "code",
   "execution_count": null,
   "id": "6f4975ee",
   "metadata": {},
   "outputs": [],
   "source": [
    "return1 = ((btc_test.iloc[buy1,4] - btc_test.iloc[buy1, 1])/btc_test.iloc[buy1, 1])# how much return we get\n",
    "return2 = ((doge_test.iloc[buy2,4] - doge_test.iloc[buy2, 1])/doge_test.iloc[buy2, 1]).sum()\n",
    "return3 = ((eth_test.iloc[buy3,4] - eth_test.iloc[buy3, 1])/eth_test.iloc[buy3, 1]).sum()"
   ]
  },
  {
   "cell_type": "code",
   "execution_count": null,
   "id": "1723e228",
   "metadata": {},
   "outputs": [
    {
     "data": {
      "text/plain": [
       "206    0.029508\n",
       "204    0.102317\n",
       "193    0.047666\n",
       "182   -0.002653\n",
       "181    0.035323\n",
       "         ...   \n",
       "6      0.004431\n",
       "5     -0.073561\n",
       "4      0.115434\n",
       "3     -0.010144\n",
       "2      0.023483\n",
       "Length: 70, dtype: float64"
      ]
     },
     "execution_count": 211,
     "metadata": {},
     "output_type": "execute_result"
    }
   ],
   "source": [
    "return1# how much return you get since the point you bought the coin model predicted if you hav the doge coin "
   ]
  },
  {
   "cell_type": "code",
   "execution_count": null,
   "id": "3de78eb7",
   "metadata": {},
   "outputs": [
    {
     "data": {
      "text/plain": [
       "7.49154169137393"
      ]
     },
     "execution_count": 208,
     "metadata": {},
     "output_type": "execute_result"
    }
   ],
   "source": [
    "return2 #749% return in 211 days"
   ]
  },
  {
   "cell_type": "code",
   "execution_count": null,
   "id": "336cc9f5",
   "metadata": {},
   "outputs": [
    {
     "data": {
      "text/plain": [
       "2.39278457443774"
      ]
     },
     "execution_count": 209,
     "metadata": {},
     "output_type": "execute_result"
    }
   ],
   "source": [
    "return3"
   ]
  }
 ],
 "metadata": {
  "kernelspec": {
   "display_name": "Python 3 (ipykernel)",
   "language": "python",
   "name": "python3"
  },
  "language_info": {
   "codemirror_mode": {
    "name": "ipython",
    "version": 3
   },
   "file_extension": ".py",
   "mimetype": "text/x-python",
   "name": "python",
   "nbconvert_exporter": "python",
   "pygments_lexer": "ipython3",
   "version": "3.9.7"
  }
 },
 "nbformat": 4,
 "nbformat_minor": 5
}
